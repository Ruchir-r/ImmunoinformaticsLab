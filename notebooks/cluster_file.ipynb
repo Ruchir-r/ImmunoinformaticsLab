{
 "cells": [
  {
   "cell_type": "code",
   "execution_count": 1,
   "metadata": {},
   "outputs": [],
   "source": [
    "import pandas as pd\n",
    "import numpy as np"
   ]
  },
  {
   "cell_type": "code",
   "execution_count": 8,
   "metadata": {},
   "outputs": [
    {
     "name": "stdout",
     "output_type": "stream",
     "text": [
      "37721\n",
      "\n",
      "Lenght of DataFrame: 6353\n"
     ]
    }
   ],
   "source": [
    "df = pd.read_csv(\"nettcr_data.csv\")\n",
    "\n",
    "print(len(df))\n",
    "# Filter the DataFrame\n",
    "df = df[df['binder'] == 1]\n",
    "df = df[['A1', 'A2', 'A3', 'B1', 'B2', 'B3', 'peptide']]\n",
    "\n",
    "# Optionally, save the result back to a new CSV file\n",
    "print(\"\\nLenght of DataFrame:\", len(df))\n",
    "# Save the filtered DataFrame to a new CSV file\n",
    "df.to_csv(\"nettcr_cluster_data.csv\", index=False)"
   ]
  }
 ],
 "metadata": {
  "kernelspec": {
   "display_name": "llm_",
   "language": "python",
   "name": "python3"
  },
  "language_info": {
   "codemirror_mode": {
    "name": "ipython",
    "version": 3
   },
   "file_extension": ".py",
   "mimetype": "text/x-python",
   "name": "python",
   "nbconvert_exporter": "python",
   "pygments_lexer": "ipython3",
   "version": "3.13.0"
  }
 },
 "nbformat": 4,
 "nbformat_minor": 2
}
