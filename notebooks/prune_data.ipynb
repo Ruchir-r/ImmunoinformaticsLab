{
 "cells": [
  {
   "cell_type": "code",
   "execution_count": 2,
   "metadata": {},
   "outputs": [],
   "source": [
    "prune_set = ['KLGGALQAK','AVFDRKSDAK','CTELKLSDY','RLRAEAQVK','RLPGVLPRA','SLFNTVATLY']"
   ]
  },
  {
   "cell_type": "code",
   "execution_count": 9,
   "metadata": {},
   "outputs": [],
   "source": [
    "import pandas as pd\n",
    "import torch"
   ]
  },
  {
   "cell_type": "code",
   "execution_count": 8,
   "metadata": {},
   "outputs": [
    {
     "name": "stdout",
     "output_type": "stream",
     "text": [
      "37721 26957\n"
     ]
    }
   ],
   "source": [
    "df = pd.read_csv(\"nettcr_data.csv\")\n",
    "\n",
    "# Filter the DataFrame\n",
    "filtered_df = df[~df['peptide'].isin(prune_set)]\n",
    "\n",
    "# Optionally, save the result back to a new CSV file\n",
    "print(len(df),len(filtered_df))\n",
    "filtered_df.to_csv(\"nettcr_data_pruned.csv\", index=False)"
   ]
  },
  {
   "cell_type": "code",
   "execution_count": 12,
   "metadata": {},
   "outputs": [
    {
     "name": "stdout",
     "output_type": "stream",
     "text": [
      "['SPRWYFYYL_KALYS_LLKGGEQ_GTEIGGGTSYGKLT_MNHEY_SMNVEV_ASGTETQY', 'GILGFVFTL_DRGSQS_IYSNGD_AVNPANARLM_DFQATT_SNEGSKA_SARWGGGTDTQY', 'KLGGALQAK_TSGFNG_NVLDGL_AVGDDKII_DFQATT_SNEGSKA_SARGLDRGTNEQY']\n"
     ]
    }
   ],
   "source": [
    "data_dict = torch.load('tcrlang_padded_data.pt', weights_only=False)\n",
    "\n",
    "print(list(data_dict.keys())[:3])\n",
    "filtered_data_dict = {k:v for k,v in data_dict.items() if k[:k.find('_')] not in prune_set}"
   ]
  }
 ],
 "metadata": {
  "kernelspec": {
   "display_name": "llm_",
   "language": "python",
   "name": "python3"
  },
  "language_info": {
   "codemirror_mode": {
    "name": "ipython",
    "version": 3
   },
   "file_extension": ".py",
   "mimetype": "text/x-python",
   "name": "python",
   "nbconvert_exporter": "python",
   "pygments_lexer": "ipython3",
   "version": "3.13.0"
  }
 },
 "nbformat": 4,
 "nbformat_minor": 2
}
