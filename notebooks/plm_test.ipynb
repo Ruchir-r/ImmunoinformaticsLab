{
 "cells": [
  {
   "cell_type": "code",
   "execution_count": null,
   "metadata": {},
   "outputs": [
    {
     "ename": "",
     "evalue": "",
     "output_type": "error",
     "traceback": [
      "\u001b[1;31mThe Kernel crashed while executing code in the current cell or a previous cell. \n",
      "\u001b[1;31mPlease review the code in the cell(s) to identify a possible cause of the failure. \n",
      "\u001b[1;31mClick <a href='https://aka.ms/vscodeJupyterKernelCrash'>here</a> for more info. \n",
      "\u001b[1;31mView Jupyter <a href='command:jupyter.viewOutput'>log</a> for further details."
     ]
    }
   ],
   "source": [
    "import torch\n",
    "import numpy as np\n",
    "import csv\n",
    "import matplotlib as plt"
   ]
  },
  {
   "cell_type": "code",
   "execution_count": null,
   "metadata": {},
   "outputs": [
    {
     "name": "stdout",
     "output_type": "stream",
     "text": [
      "['SPRWYFYYL', 'GILGFVFTL', 'KLGGALQAK', 'CINGVCWTV', 'RAKFKQLL', 'AVFDRKSDAK', 'RFPLTFGWCF', 'KSKRTPMGF', 'ELAGIGILTV', 'NLVPMVATV', 'ATDALMTGF', 'GLCTLVAML', 'SLFNTVATLY', 'LLWNGPMAV', 'DATYQRTRALVR', 'IVTDFSVIK', 'FEDLRLLSF', 'HPVTKYIM', 'GPRLGVRAT', 'VLFGLGFAI', 'YLQPRTFLL', 'FEDLRVLSF', 'RLPGVLPRA', 'RLRAEAQVK', 'RPPIFIRRL', 'CTELKLSDY']\n"
     ]
    }
   ],
   "source": [
    "import pandas as pd\n",
    "\n",
    "# Load the CSV file\n",
    "df = pd.read_csv('nettcr_data.csv') \n",
    "\n",
    "# Get unique entries from a specific column\n",
    "unique_values = df['peptide'].unique()\n",
    "\n",
    "# Convert to a list (optional)\n",
    "unique_list = unique_values.tolist()\n",
    "\n",
    "print(unique_list)\n"
   ]
  },
  {
   "cell_type": "code",
   "execution_count": 9,
   "metadata": {},
   "outputs": [],
   "source": [
    "blosum_data = torch.load('blosum50.pt', weights_only=False)"
   ]
  },
  {
   "cell_type": "code",
   "execution_count": 4,
   "metadata": {},
   "outputs": [
    {
     "name": "stdout",
     "output_type": "stream",
     "text": [
      "SPRWYFYYL_KALYS_LLKGGEQ_GTEIGGGTSYGKLT_MNHEY_SMNVEV_ASGTETQY\n",
      "GILGFVFTL_DRGSQS_IYSNGD_AVNPANARLM_DFQATT_SNEGSKA_SARWGGGTDTQY\n",
      "KLGGALQAK_TSGFNG_NVLDGL_AVGDDKII_DFQATT_SNEGSKA_SARGLDRGTNEQY\n",
      "KLGGALQAK_DRGSQS_IYSNGD_AVTPGTYKYI_LGHDT_YNNKEL_ASSPGTSIFVAEQY\n",
      "CINGVCWTV_TRDTTYY_RNSFDEQN_AFLYNQGGKLI_SGHDY_FNNNVP_ASSPGSRGNIQY\n",
      "RAKFKQLL_DRGSQS_IYSNGD_APNSGGGADGLT_LGHNT_FRNRAP_ASGKLAGVLSEQF\n",
      "AVFDRKSDAK_DRGSQS_IYSNGD_ASPGGGADGLT_SGHDT_YYEEEE_ASSATGTHSFGYT\n"
     ]
    },
    {
     "data": {
      "text/plain": [
       "[12, 7, 8, 22, 6, 7, 23]"
      ]
     },
     "execution_count": 4,
     "metadata": {},
     "output_type": "execute_result"
    }
   ],
   "source": [
    "thingy = iter(blosum_data.items())\n",
    "padding_lengths = []\n",
    "for i in range(0,7):\n",
    "    key, value = next(thingy)\n",
    "    print(key)\n",
    "    padding_lengths.append(value[i].shape[1])\n",
    "\n",
    "padding_lengths    "
   ]
  },
  {
   "cell_type": "code",
   "execution_count": 5,
   "metadata": {},
   "outputs": [],
   "source": [
    "def pad_sequence(\n",
    "    sequence: np.ndarray,\n",
    "    padding_length: int,\n",
    "    padding_value=-5.0,\n",
    "    padding_side=\"right\",\n",
    ") -> np.ndarray:\n",
    "    \"\"\"Pad a single sequence to the specified length.\n",
    "\n",
    "    Args:\n",
    "        sequence: A numpy array representing the sequence to pad.\n",
    "        padding_length: An integer representing the length to pad the sequence to.\n",
    "        padding_value: The value to use for padding.\n",
    "        padding_side: A string specifying the side to pad on: 'left', 'right', or 'center'.\n",
    "\n",
    "    Returns:\n",
    "        A numpy array representing the padded sequence.\n",
    "    \"\"\"\n",
    "    if padding_length <= sequence.shape[0]:\n",
    "        return sequence\n",
    "\n",
    "    pad_size = padding_length - sequence.shape[0]\n",
    "\n",
    "    if padding_side == \"left\":\n",
    "        pad_width = ((pad_size, 0), (0, 0))\n",
    "    elif padding_side == \"right\":\n",
    "        pad_width = ((0, pad_size), (0, 0))\n",
    "    elif padding_side == \"center\":\n",
    "        if pad_size % 2 != 0:\n",
    "            raise ValueError(\n",
    "                \"For center padding, the padding length must result in equal padding on both sides.\"\n",
    "            )\n",
    "        pad_left = pad_size // 2\n",
    "        pad_right = pad_size // 2\n",
    "        pad_width = ((pad_left, pad_right), (0, 0))\n",
    "    else:\n",
    "        raise ValueError(\n",
    "            \"Invalid padding_side. Choose from 'left', 'right', or 'center'.\"\n",
    "        )\n",
    "\n",
    "    return np.pad(\n",
    "        sequence,\n",
    "        pad_width,\n",
    "        mode=\"constant\",\n",
    "        constant_values=padding_value,\n",
    "    )"
   ]
  },
  {
   "cell_type": "code",
   "execution_count": 6,
   "metadata": {},
   "outputs": [
    {
     "ename": "NameError",
     "evalue": "name 'tcr_data' is not defined",
     "output_type": "error",
     "traceback": [
      "\u001b[31m---------------------------------------------------------------------------\u001b[39m",
      "\u001b[31mNameError\u001b[39m                                 Traceback (most recent call last)",
      "\u001b[36mCell\u001b[39m\u001b[36m \u001b[39m\u001b[32mIn[6]\u001b[39m\u001b[32m, line 2\u001b[39m\n\u001b[32m      1\u001b[39m tcr_padded_data = {}\n\u001b[32m----> \u001b[39m\u001b[32m2\u001b[39m \u001b[38;5;28;01mfor\u001b[39;00m key, value \u001b[38;5;129;01min\u001b[39;00m \u001b[43mtcr_data\u001b[49m.items():\n\u001b[32m      3\u001b[39m     l = []\n\u001b[32m      4\u001b[39m     l.append(value[\u001b[32m0\u001b[39m])\n",
      "\u001b[31mNameError\u001b[39m: name 'tcr_data' is not defined"
     ]
    }
   ],
   "source": [
    "tcr_padded_data = {}\n",
    "for key, value in tcr_data.items():\n",
    "    l = []\n",
    "    l.append(value[0])\n",
    "    for i in range(1,7):\n",
    "        l.append(np.array(value[i].T))\n",
    "    tcr_padded_data[key] = l\n",
    "        \n",
    "torch.save(tcr_padded_data, \"tcr_padded_data.pt\")"
   ]
  },
  {
   "cell_type": "code",
   "execution_count": null,
   "metadata": {},
   "outputs": [],
   "source": [
    "def process_sequence(args):\n",
    "    padding_value = -5.0\n",
    "    (\n",
    "        seqs,\n",
    "        encoding_scheme,\n",
    "        padding_lengths,\n",
    "        out_path,\n",
    "        peptide_esm_dir,\n",
    "        cdr_esm_dir,\n",
    "        save_to_dict,\n",
    "    ) = args\n",
    "\n",
    "    if encoding_scheme == \"esm\":\n",
    "        # data = get_esm_embeddings(seqs, peptide_esm_dir, cdr_esm_dir)\n",
    "        pass\n",
    "    else:\n",
    "        data = [\n",
    "            (\n",
    "                encode_sequence(seq, encoding_scheme)\n",
    "                if seq\n",
    "                else np.array([np.repeat(padding_value, 20)], dtype=np.int8)\n",
    "            )\n",
    "            for seq in seqs\n",
    "        ]\n",
    "    data = [\n",
    "        pad_sequence(seq, length, padding_value).T\n",
    "        for seq, length in zip(data, padding_lengths)\n",
    "    ]\n",
    "\n",
    "    # Convert to numpy instead of torch tensors before returning\n",
    "    data = [\n",
    "        np.array(seq, dtype=np.float32) for seq in data\n",
    "    ]  # Avoid huge tensors in memory\n",
    "\n",
    "    if save_to_dict:\n",
    "        return out_path.stem, data  # Return numpy instead of tensor\n",
    "    else:\n",
    "        torch.save(data, str(out_path))\n",
    "        return None"
   ]
  },
  {
   "cell_type": "code",
   "execution_count": null,
   "metadata": {},
   "outputs": [
    {
     "name": "stdout",
     "output_type": "stream",
     "text": [
      "(20, 12)\n",
      "(480, 5)\n",
      "(480, 7)\n",
      "(480, 14)\n",
      "(480, 5)\n",
      "(480, 6)\n",
      "(480, 8)\n",
      "(20, 12)\n",
      "(480, 7)\n",
      "(480, 8)\n",
      "(480, 22)\n",
      "(480, 6)\n",
      "(480, 7)\n",
      "(480, 23)\n"
     ]
    }
   ],
   "source": [
    "for i in range(7):\n",
    "    print(value[i].shape) \n",
    "value = [np.array(pad_sequence(seq.T, length, -5).T) for seq, length in  zip(value, padding_lengths)]\n",
    "for i in range(7):\n",
    "    print(value[i].shape) "
   ]
  },
  {
   "cell_type": "code",
   "execution_count": null,
   "metadata": {},
   "outputs": [],
   "source": [
    "tcrt_data = torch.load('tcr_transposed_data.pt', weights_only=False)\n",
    "tcr_pad_data = {}\n",
    "for key, value in tcrt_data.items():\n",
    "    v = [np.array(pad_sequence(seq.T, length, -5).T) for seq, length in  zip(value, padding_lengths)]\n",
    "    tcr_pad_data[key] = v\n"
   ]
  },
  {
   "cell_type": "code",
   "execution_count": 8,
   "metadata": {},
   "outputs": [
    {
     "ename": "NameError",
     "evalue": "name 'tcr_pad_data' is not defined",
     "output_type": "error",
     "traceback": [
      "\u001b[31m---------------------------------------------------------------------------\u001b[39m",
      "\u001b[31mNameError\u001b[39m                                 Traceback (most recent call last)",
      "\u001b[36mCell\u001b[39m\u001b[36m \u001b[39m\u001b[32mIn[8]\u001b[39m\u001b[32m, line 1\u001b[39m\n\u001b[32m----> \u001b[39m\u001b[32m1\u001b[39m key1, value1 = \u001b[38;5;28mnext\u001b[39m(\u001b[38;5;28miter\u001b[39m(\u001b[43mtcr_pad_data\u001b[49m.items()))\n\u001b[32m      2\u001b[39m key2, value2 = \u001b[38;5;28mnext\u001b[39m(\u001b[38;5;28miter\u001b[39m(blosum_data.items()))\n\u001b[32m      3\u001b[39m \u001b[38;5;28mprint\u001b[39m(key1 == key2)\n",
      "\u001b[31mNameError\u001b[39m: name 'tcr_pad_data' is not defined"
     ]
    }
   ],
   "source": [
    "key1, value1 = next(iter(tcr_pad_data.items()))\n",
    "key2, value2 = next(iter(blosum_data.items()))\n",
    "print(key1 == key2)\n",
    "for i in range(7):\n",
    "    print(value1[i].shape)\n",
    "    print(value2[i].shape)"
   ]
  },
  {
   "cell_type": "code",
   "execution_count": null,
   "metadata": {},
   "outputs": [],
   "source": [
    "iter1 = iter(blosum_data.items())\n",
    "iter2 = iter(tcr_pad_data.items())\n",
    "for i in range(len(blosum_data)):\n",
    "    k1,v1 = next(iter1)\n",
    "    k2,v2 = next(iter2)\n",
    "    if (k1 == k2 and v1[3].shape[1] == v2[3].shape[1]):\n",
    "        pass\n",
    "    else:\n",
    "        print('big no')"
   ]
  },
  {
   "cell_type": "code",
   "execution_count": null,
   "metadata": {},
   "outputs": [],
   "source": [
    "torch.cuda.empty_cache() "
   ]
  },
  {
   "cell_type": "code",
   "execution_count": null,
   "metadata": {},
   "outputs": [],
   "source": [
    "torch.save(tcr_pad_data,'tcrlang_padded_data.pt', pickle_protocol=4)"
   ]
  },
  {
   "cell_type": "code",
   "execution_count": null,
   "metadata": {},
   "outputs": [
    {
     "ename": "NameError",
     "evalue": "name 'tcr_pad_data' is not defined",
     "output_type": "error",
     "traceback": [
      "\u001b[31m---------------------------------------------------------------------------\u001b[39m",
      "\u001b[31mNameError\u001b[39m                                 Traceback (most recent call last)",
      "\u001b[36mCell\u001b[39m\u001b[36m \u001b[39m\u001b[32mIn[1]\u001b[39m\u001b[32m, line 1\u001b[39m\n\u001b[32m----> \u001b[39m\u001b[32m1\u001b[39m \u001b[38;5;28mprint\u001b[39m(\u001b[38;5;28mnext\u001b[39m(\u001b[38;5;28miter\u001b[39m(\u001b[43mtcr_pad_data\u001b[49m.items()))[\u001b[32m1\u001b[39m])\n",
      "\u001b[31mNameError\u001b[39m: name 'tcr_pad_data' is not defined"
     ]
    }
   ],
   "source": [
    "print(next(iter(tcr_pad_data.items()))[1])"
   ]
  },
  {
   "cell_type": "code",
   "execution_count": 4,
   "metadata": {},
   "outputs": [],
   "source": [
    "data = torch.load('tcrlang_padded_data.pt', weights_only=False)"
   ]
  },
  {
   "cell_type": "code",
   "execution_count": 40,
   "metadata": {},
   "outputs": [
    {
     "name": "stdout",
     "output_type": "stream",
     "text": [
      "torch.Size([64, 480, 7]) torch.Size([64, 7, 480])\n",
      "480\n",
      "tensor(1.0000)\n"
     ]
    }
   ],
   "source": [
    "value = torch.from_numpy(next(iter(data.values()))[1]).unsqueeze(0).repeat(64, 1, 1)\n",
    "normed = torch.nn.functional.normalize(value, p=2, dim=1)\n",
    "normed_t = torch.stack([x.T for x in normed])\n",
    "print(normed.shape,normed_t.shape)\n",
    "print(len(normed_t[1][5]))\n",
    "print(sum(x**2 for x in normed_t[1][5]))"
   ]
  },
  {
   "cell_type": "code",
   "execution_count": 37,
   "metadata": {},
   "outputs": [
    {
     "name": "stdout",
     "output_type": "stream",
     "text": [
      "(480, 7)\n",
      "0.8703468 -1.239718\n",
      "0.96544063 -1.2190589\n",
      "0.8740583 -1.0445005\n",
      "0.825287 -1.070557\n",
      "0.92683095 -1.0948275\n",
      "0.8430029 -1.0165862\n",
      "-5.0 -5.0\n"
     ]
    }
   ],
   "source": [
    "vector = next(iter(data.values()))[5] #tcr encoding\n",
    "print(vector.shape)\n",
    "for i in vector.T:\n",
    "    print(max(i),min(i))\n"
   ]
  },
  {
   "cell_type": "code",
   "execution_count": 44,
   "metadata": {},
   "outputs": [
    {
     "data": {
      "text/plain": [
       "CNN_CDR123_global_max_normalization(\n",
       "  (pep_conv_layers): ModuleList(\n",
       "    (0): Sequential(\n",
       "      (0): Conv1d(20, 16, kernel_size=(1,), stride=(1,), padding=same, bias=False)\n",
       "      (1): BatchNorm1d(16, eps=1e-05, momentum=0.1, affine=True, track_running_stats=True)\n",
       "      (2): ReLU()\n",
       "      (3): AdaptiveMaxPool1d(output_size=1)\n",
       "    )\n",
       "    (1): Sequential(\n",
       "      (0): Conv1d(20, 16, kernel_size=(3,), stride=(1,), padding=same, bias=False)\n",
       "      (1): BatchNorm1d(16, eps=1e-05, momentum=0.1, affine=True, track_running_stats=True)\n",
       "      (2): ReLU()\n",
       "      (3): AdaptiveMaxPool1d(output_size=1)\n",
       "    )\n",
       "    (2): Sequential(\n",
       "      (0): Conv1d(20, 16, kernel_size=(5,), stride=(1,), padding=same, bias=False)\n",
       "      (1): BatchNorm1d(16, eps=1e-05, momentum=0.1, affine=True, track_running_stats=True)\n",
       "      (2): ReLU()\n",
       "      (3): AdaptiveMaxPool1d(output_size=1)\n",
       "    )\n",
       "    (3): Sequential(\n",
       "      (0): Conv1d(20, 16, kernel_size=(7,), stride=(1,), padding=same, bias=False)\n",
       "      (1): BatchNorm1d(16, eps=1e-05, momentum=0.1, affine=True, track_running_stats=True)\n",
       "      (2): ReLU()\n",
       "      (3): AdaptiveMaxPool1d(output_size=1)\n",
       "    )\n",
       "    (4): Sequential(\n",
       "      (0): Conv1d(20, 16, kernel_size=(9,), stride=(1,), padding=same, bias=False)\n",
       "      (1): BatchNorm1d(16, eps=1e-05, momentum=0.1, affine=True, track_running_stats=True)\n",
       "      (2): ReLU()\n",
       "      (3): AdaptiveMaxPool1d(output_size=1)\n",
       "    )\n",
       "  )\n",
       "  (a1_conv_layers): ModuleList(\n",
       "    (0): Sequential(\n",
       "      (0): Conv1d(480, 16, kernel_size=(1,), stride=(1,), padding=same, bias=False)\n",
       "      (1): BatchNorm1d(16, eps=1e-05, momentum=0.1, affine=True, track_running_stats=True)\n",
       "      (2): ReLU()\n",
       "      (3): AdaptiveMaxPool1d(output_size=1)\n",
       "    )\n",
       "    (1): Sequential(\n",
       "      (0): Conv1d(480, 16, kernel_size=(3,), stride=(1,), padding=same, bias=False)\n",
       "      (1): BatchNorm1d(16, eps=1e-05, momentum=0.1, affine=True, track_running_stats=True)\n",
       "      (2): ReLU()\n",
       "      (3): AdaptiveMaxPool1d(output_size=1)\n",
       "    )\n",
       "    (2): Sequential(\n",
       "      (0): Conv1d(480, 16, kernel_size=(5,), stride=(1,), padding=same, bias=False)\n",
       "      (1): BatchNorm1d(16, eps=1e-05, momentum=0.1, affine=True, track_running_stats=True)\n",
       "      (2): ReLU()\n",
       "      (3): AdaptiveMaxPool1d(output_size=1)\n",
       "    )\n",
       "    (3): Sequential(\n",
       "      (0): Conv1d(480, 16, kernel_size=(7,), stride=(1,), padding=same, bias=False)\n",
       "      (1): BatchNorm1d(16, eps=1e-05, momentum=0.1, affine=True, track_running_stats=True)\n",
       "      (2): ReLU()\n",
       "      (3): AdaptiveMaxPool1d(output_size=1)\n",
       "    )\n",
       "    (4): Sequential(\n",
       "      (0): Conv1d(480, 16, kernel_size=(9,), stride=(1,), padding=same, bias=False)\n",
       "      (1): BatchNorm1d(16, eps=1e-05, momentum=0.1, affine=True, track_running_stats=True)\n",
       "      (2): ReLU()\n",
       "      (3): AdaptiveMaxPool1d(output_size=1)\n",
       "    )\n",
       "  )\n",
       "  (a2_conv_layers): ModuleList(\n",
       "    (0): Sequential(\n",
       "      (0): Conv1d(480, 16, kernel_size=(1,), stride=(1,), padding=same, bias=False)\n",
       "      (1): BatchNorm1d(16, eps=1e-05, momentum=0.1, affine=True, track_running_stats=True)\n",
       "      (2): ReLU()\n",
       "      (3): AdaptiveMaxPool1d(output_size=1)\n",
       "    )\n",
       "    (1): Sequential(\n",
       "      (0): Conv1d(480, 16, kernel_size=(3,), stride=(1,), padding=same, bias=False)\n",
       "      (1): BatchNorm1d(16, eps=1e-05, momentum=0.1, affine=True, track_running_stats=True)\n",
       "      (2): ReLU()\n",
       "      (3): AdaptiveMaxPool1d(output_size=1)\n",
       "    )\n",
       "    (2): Sequential(\n",
       "      (0): Conv1d(480, 16, kernel_size=(5,), stride=(1,), padding=same, bias=False)\n",
       "      (1): BatchNorm1d(16, eps=1e-05, momentum=0.1, affine=True, track_running_stats=True)\n",
       "      (2): ReLU()\n",
       "      (3): AdaptiveMaxPool1d(output_size=1)\n",
       "    )\n",
       "    (3): Sequential(\n",
       "      (0): Conv1d(480, 16, kernel_size=(7,), stride=(1,), padding=same, bias=False)\n",
       "      (1): BatchNorm1d(16, eps=1e-05, momentum=0.1, affine=True, track_running_stats=True)\n",
       "      (2): ReLU()\n",
       "      (3): AdaptiveMaxPool1d(output_size=1)\n",
       "    )\n",
       "    (4): Sequential(\n",
       "      (0): Conv1d(480, 16, kernel_size=(9,), stride=(1,), padding=same, bias=False)\n",
       "      (1): BatchNorm1d(16, eps=1e-05, momentum=0.1, affine=True, track_running_stats=True)\n",
       "      (2): ReLU()\n",
       "      (3): AdaptiveMaxPool1d(output_size=1)\n",
       "    )\n",
       "  )\n",
       "  (a3_conv_layers): ModuleList(\n",
       "    (0): Sequential(\n",
       "      (0): Conv1d(480, 16, kernel_size=(1,), stride=(1,), padding=same, bias=False)\n",
       "      (1): BatchNorm1d(16, eps=1e-05, momentum=0.1, affine=True, track_running_stats=True)\n",
       "      (2): ReLU()\n",
       "      (3): AdaptiveMaxPool1d(output_size=1)\n",
       "    )\n",
       "    (1): Sequential(\n",
       "      (0): Conv1d(480, 16, kernel_size=(3,), stride=(1,), padding=same, bias=False)\n",
       "      (1): BatchNorm1d(16, eps=1e-05, momentum=0.1, affine=True, track_running_stats=True)\n",
       "      (2): ReLU()\n",
       "      (3): AdaptiveMaxPool1d(output_size=1)\n",
       "    )\n",
       "    (2): Sequential(\n",
       "      (0): Conv1d(480, 16, kernel_size=(5,), stride=(1,), padding=same, bias=False)\n",
       "      (1): BatchNorm1d(16, eps=1e-05, momentum=0.1, affine=True, track_running_stats=True)\n",
       "      (2): ReLU()\n",
       "      (3): AdaptiveMaxPool1d(output_size=1)\n",
       "    )\n",
       "    (3): Sequential(\n",
       "      (0): Conv1d(480, 16, kernel_size=(7,), stride=(1,), padding=same, bias=False)\n",
       "      (1): BatchNorm1d(16, eps=1e-05, momentum=0.1, affine=True, track_running_stats=True)\n",
       "      (2): ReLU()\n",
       "      (3): AdaptiveMaxPool1d(output_size=1)\n",
       "    )\n",
       "    (4): Sequential(\n",
       "      (0): Conv1d(480, 16, kernel_size=(9,), stride=(1,), padding=same, bias=False)\n",
       "      (1): BatchNorm1d(16, eps=1e-05, momentum=0.1, affine=True, track_running_stats=True)\n",
       "      (2): ReLU()\n",
       "      (3): AdaptiveMaxPool1d(output_size=1)\n",
       "    )\n",
       "  )\n",
       "  (b1_conv_layers): ModuleList(\n",
       "    (0): Sequential(\n",
       "      (0): Conv1d(480, 16, kernel_size=(1,), stride=(1,), padding=same, bias=False)\n",
       "      (1): BatchNorm1d(16, eps=1e-05, momentum=0.1, affine=True, track_running_stats=True)\n",
       "      (2): ReLU()\n",
       "      (3): AdaptiveMaxPool1d(output_size=1)\n",
       "    )\n",
       "    (1): Sequential(\n",
       "      (0): Conv1d(480, 16, kernel_size=(3,), stride=(1,), padding=same, bias=False)\n",
       "      (1): BatchNorm1d(16, eps=1e-05, momentum=0.1, affine=True, track_running_stats=True)\n",
       "      (2): ReLU()\n",
       "      (3): AdaptiveMaxPool1d(output_size=1)\n",
       "    )\n",
       "    (2): Sequential(\n",
       "      (0): Conv1d(480, 16, kernel_size=(5,), stride=(1,), padding=same, bias=False)\n",
       "      (1): BatchNorm1d(16, eps=1e-05, momentum=0.1, affine=True, track_running_stats=True)\n",
       "      (2): ReLU()\n",
       "      (3): AdaptiveMaxPool1d(output_size=1)\n",
       "    )\n",
       "    (3): Sequential(\n",
       "      (0): Conv1d(480, 16, kernel_size=(7,), stride=(1,), padding=same, bias=False)\n",
       "      (1): BatchNorm1d(16, eps=1e-05, momentum=0.1, affine=True, track_running_stats=True)\n",
       "      (2): ReLU()\n",
       "      (3): AdaptiveMaxPool1d(output_size=1)\n",
       "    )\n",
       "    (4): Sequential(\n",
       "      (0): Conv1d(480, 16, kernel_size=(9,), stride=(1,), padding=same, bias=False)\n",
       "      (1): BatchNorm1d(16, eps=1e-05, momentum=0.1, affine=True, track_running_stats=True)\n",
       "      (2): ReLU()\n",
       "      (3): AdaptiveMaxPool1d(output_size=1)\n",
       "    )\n",
       "  )\n",
       "  (b2_conv_layers): ModuleList(\n",
       "    (0): Sequential(\n",
       "      (0): Conv1d(480, 16, kernel_size=(1,), stride=(1,), padding=same, bias=False)\n",
       "      (1): BatchNorm1d(16, eps=1e-05, momentum=0.1, affine=True, track_running_stats=True)\n",
       "      (2): ReLU()\n",
       "      (3): AdaptiveMaxPool1d(output_size=1)\n",
       "    )\n",
       "    (1): Sequential(\n",
       "      (0): Conv1d(480, 16, kernel_size=(3,), stride=(1,), padding=same, bias=False)\n",
       "      (1): BatchNorm1d(16, eps=1e-05, momentum=0.1, affine=True, track_running_stats=True)\n",
       "      (2): ReLU()\n",
       "      (3): AdaptiveMaxPool1d(output_size=1)\n",
       "    )\n",
       "    (2): Sequential(\n",
       "      (0): Conv1d(480, 16, kernel_size=(5,), stride=(1,), padding=same, bias=False)\n",
       "      (1): BatchNorm1d(16, eps=1e-05, momentum=0.1, affine=True, track_running_stats=True)\n",
       "      (2): ReLU()\n",
       "      (3): AdaptiveMaxPool1d(output_size=1)\n",
       "    )\n",
       "    (3): Sequential(\n",
       "      (0): Conv1d(480, 16, kernel_size=(7,), stride=(1,), padding=same, bias=False)\n",
       "      (1): BatchNorm1d(16, eps=1e-05, momentum=0.1, affine=True, track_running_stats=True)\n",
       "      (2): ReLU()\n",
       "      (3): AdaptiveMaxPool1d(output_size=1)\n",
       "    )\n",
       "    (4): Sequential(\n",
       "      (0): Conv1d(480, 16, kernel_size=(9,), stride=(1,), padding=same, bias=False)\n",
       "      (1): BatchNorm1d(16, eps=1e-05, momentum=0.1, affine=True, track_running_stats=True)\n",
       "      (2): ReLU()\n",
       "      (3): AdaptiveMaxPool1d(output_size=1)\n",
       "    )\n",
       "  )\n",
       "  (b3_conv_layers): ModuleList(\n",
       "    (0): Sequential(\n",
       "      (0): Conv1d(480, 16, kernel_size=(1,), stride=(1,), padding=same, bias=False)\n",
       "      (1): BatchNorm1d(16, eps=1e-05, momentum=0.1, affine=True, track_running_stats=True)\n",
       "      (2): ReLU()\n",
       "      (3): AdaptiveMaxPool1d(output_size=1)\n",
       "    )\n",
       "    (1): Sequential(\n",
       "      (0): Conv1d(480, 16, kernel_size=(3,), stride=(1,), padding=same, bias=False)\n",
       "      (1): BatchNorm1d(16, eps=1e-05, momentum=0.1, affine=True, track_running_stats=True)\n",
       "      (2): ReLU()\n",
       "      (3): AdaptiveMaxPool1d(output_size=1)\n",
       "    )\n",
       "    (2): Sequential(\n",
       "      (0): Conv1d(480, 16, kernel_size=(5,), stride=(1,), padding=same, bias=False)\n",
       "      (1): BatchNorm1d(16, eps=1e-05, momentum=0.1, affine=True, track_running_stats=True)\n",
       "      (2): ReLU()\n",
       "      (3): AdaptiveMaxPool1d(output_size=1)\n",
       "    )\n",
       "    (3): Sequential(\n",
       "      (0): Conv1d(480, 16, kernel_size=(7,), stride=(1,), padding=same, bias=False)\n",
       "      (1): BatchNorm1d(16, eps=1e-05, momentum=0.1, affine=True, track_running_stats=True)\n",
       "      (2): ReLU()\n",
       "      (3): AdaptiveMaxPool1d(output_size=1)\n",
       "    )\n",
       "    (4): Sequential(\n",
       "      (0): Conv1d(480, 16, kernel_size=(9,), stride=(1,), padding=same, bias=False)\n",
       "      (1): BatchNorm1d(16, eps=1e-05, momentum=0.1, affine=True, track_running_stats=True)\n",
       "      (2): ReLU()\n",
       "      (3): AdaptiveMaxPool1d(output_size=1)\n",
       "    )\n",
       "  )\n",
       "  (dropout): Dropout(p=0.6, inplace=False)\n",
       "  (linear_1): Linear(in_features=560, out_features=64, bias=True)\n",
       "  (linear_2): Linear(in_features=64, out_features=1, bias=True)\n",
       ")"
      ]
     },
     "execution_count": 44,
     "metadata": {},
     "output_type": "execute_result"
    }
   ],
   "source": [
    "model = torch.load('model_experiment_1_0.pt', map_location=torch.device(\"cpu\"), weights_only=False)\n",
    "model.eval()"
   ]
  },
  {
   "cell_type": "code",
   "execution_count": 59,
   "metadata": {},
   "outputs": [
    {
     "name": "stdout",
     "output_type": "stream",
     "text": [
      "Conv1d weight shape: torch.Size([16, 20, 7])\n",
      "Conv1d weights:\n",
      " tensor([[[ 0.5180, -0.0349, -0.1883,  ..., -0.0485, -0.2565, -0.2170],\n",
      "         [-0.0324,  0.2046, -0.1877,  ...,  0.2063, -0.1720, -0.2937],\n",
      "         [-0.2086,  0.1861,  0.0046,  ...,  0.2543, -0.1514, -0.1332],\n",
      "         ...,\n",
      "         [-0.3361, -0.0117,  0.0231,  ...,  0.1552,  0.0408, -0.0762],\n",
      "         [-0.3047, -0.2364,  0.3487,  ..., -0.1364, -0.1264, -0.2979],\n",
      "         [-0.0901, -0.5594, -0.0950,  ..., -0.0725, -0.2345,  0.2289]],\n",
      "\n",
      "        [[ 1.3569, -0.3404,  0.1595,  ..., -0.0463, -0.0648,  0.0597],\n",
      "         [-0.0622, -0.2041, -0.4474,  ...,  0.1942, -0.1377, -0.1677],\n",
      "         [-0.1180,  0.2231,  0.3989,  ...,  0.2400,  0.0456, -0.0812],\n",
      "         ...,\n",
      "         [-0.1034, -0.5291, -0.0854,  ...,  0.0690, -0.0490, -0.1128],\n",
      "         [-0.2828, -0.4750, -0.5300,  ..., -0.0659,  0.0267, -0.1234],\n",
      "         [ 0.2816, -0.1200,  0.0870,  ..., -0.0314, -0.0036,  0.1840]],\n",
      "\n",
      "        [[ 1.1326,  0.3015,  0.2508,  ...,  0.1565, -0.2096, -0.0177],\n",
      "         [ 0.0509, -0.2990, -0.4756,  ..., -0.2562, -0.0123,  0.2051],\n",
      "         [ 0.0125, -0.0625, -0.0933,  ..., -0.1354, -0.0756,  0.4366],\n",
      "         ...,\n",
      "         [ 0.0077, -0.2829,  0.0497,  ...,  0.1605,  0.0376,  0.0282],\n",
      "         [ 0.0717, -0.2605,  0.0595,  ..., -0.0141,  0.0221, -0.2661],\n",
      "         [ 0.2942, -0.0079,  0.2753,  ...,  0.3899, -0.0309, -0.2576]],\n",
      "\n",
      "        ...,\n",
      "\n",
      "        [[-0.9853,  0.3485, -0.8108,  ...,  0.9300,  0.3162, -0.3407],\n",
      "         [ 0.2900,  0.0480,  0.1362,  ..., -0.0099,  0.4178, -0.1126],\n",
      "         [ 0.0647,  0.1902, -0.2879,  ..., -0.1682,  0.3393, -0.0960],\n",
      "         ...,\n",
      "         [ 0.1623,  0.2324,  0.1581,  ...,  0.1329, -0.2069, -0.2035],\n",
      "         [ 0.1841, -0.1919,  0.0778,  ..., -0.1439, -0.2180, -0.3476],\n",
      "         [-0.7243, -0.1719, -0.4749,  ..., -0.0793,  0.1194, -0.0724]],\n",
      "\n",
      "        [[-0.7295, -0.4836,  0.3161,  ..., -0.2540,  0.0149,  0.4344],\n",
      "         [ 0.2369,  0.2383, -0.0599,  ...,  0.3206,  0.5693,  0.1390],\n",
      "         [-0.4452,  0.1600, -0.1090,  ..., -0.0901,  0.3818,  0.1188],\n",
      "         ...,\n",
      "         [-0.4389,  0.5029,  0.0564,  ...,  0.0104,  0.6448,  0.1707],\n",
      "         [-0.1598,  0.7192, -0.0037,  ...,  0.0269,  0.5185,  0.1714],\n",
      "         [-0.3007,  0.0618,  0.4118,  ...,  0.1985,  0.0458,  0.0846]],\n",
      "\n",
      "        [[ 0.0760, -0.3029, -0.8459,  ...,  0.2939, -0.1896, -0.1222],\n",
      "         [-0.3388,  0.0050, -0.3506,  ..., -0.1726, -0.1634,  0.1959],\n",
      "         [ 0.1839,  0.1687, -0.4114,  ...,  0.1899,  0.2746,  0.1252],\n",
      "         ...,\n",
      "         [ 0.1068,  0.1842,  0.2407,  ..., -0.2330, -0.2420, -0.0368],\n",
      "         [-0.1461,  0.0099,  0.0230,  ..., -0.0545, -0.1268,  0.0653],\n",
      "         [-0.0512,  0.2638, -0.0244,  ...,  0.7349, -0.1983, -0.1181]]])\n"
     ]
    },
    {
     "data": {
      "text/plain": [
       "tensor(0.1843)"
      ]
     },
     "execution_count": 59,
     "metadata": {},
     "output_type": "execute_result"
    }
   ],
   "source": [
    "# Access the first Conv1d layer inside the first Sequential block\n",
    "#conv_weight = model.a1_conv_layers[0][0].weight  # [0] = Conv1d layer pep_conv_layers\n",
    "conv_weight = model.pep_conv_layers[3][0].weight\n",
    "print(\"Conv1d weight shape:\", conv_weight.shape)\n",
    "print(\"Conv1d weights:\\n\", conv_weight.data)\n",
    "conv_weight.data.abs().std()\n"
   ]
  },
  {
   "cell_type": "code",
   "execution_count": 60,
   "metadata": {},
   "outputs": [
    {
     "data": {
      "image/png": "[encoded data removed]",
      "text/plain": [
       "<Figure size 640x480 with 1 Axes>"
      ]
     },
     "metadata": {},
     "output_type": "display_data"
    }
   ],
   "source": [
    "plt.hist(conv_weight.data.cpu().flatten().numpy(), bins=100)\n",
    "plt.title(\"Weight Distribution of Conv1d Layer\")\n",
    "plt.xlabel(\"Weight value\")\n",
    "plt.ylabel(\"Frequency\")\n",
    "plt.show()\n"
   ]
  },
  {
   "cell_type": "code",
   "execution_count": null,
   "metadata": {},
   "outputs": [],
   "source": [
    "for name, param in model.named_parameters():\n",
    "    if param.requires_grad:\n",
    "        data = param.data.cpu().flatten().numpy()\n",
    "        plt.hist(data, bins=100)\n",
    "        plt.title(f\"Weight Histogram: {name}\")\n",
    "        plt.xlabel(\"Weight value\")\n",
    "        plt.ylabel(\"Frequency\")\n",
    "        plt.grid(True)\n",
    "        plt.show()\n"
   ]
  }
 ],
 "metadata": {
  "kernelspec": {
   "display_name": "llm_",
   "language": "python",
   "name": "python3"
  },
  "language_info": {
   "codemirror_mode": {
    "name": "ipython",
    "version": 3
   },
   "file_extension": ".py",
   "mimetype": "text/x-python",
   "name": "python",
   "nbconvert_exporter": "python",
   "pygments_lexer": "ipython3",
   "version": "3.13.0"
  }
 },
 "nbformat": 4,
 "nbformat_minor": 2
}
